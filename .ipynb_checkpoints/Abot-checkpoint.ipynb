{
 "cells": [
  {
   "cell_type": "code",
   "execution_count": 2,
   "id": "95347dda-3d1e-4554-beda-8dcaf9c02afd",
   "metadata": {},
   "outputs": [],
   "source": [
    "from dotenv import load_dotenv\n",
    "from openai import OpenAI\n",
    "import os\n",
    "import requests\n",
    "from requests_oauthlib import OAuth1\n",
    "import json\n",
    "import base64\n",
    "from PIL import Image\n",
    "from io import BytesIO"
   ]
  },
  {
   "cell_type": "code",
   "execution_count": 3,
   "id": "a6cc2565-dd18-475e-9c54-aea12dd829ce",
   "metadata": {},
   "outputs": [
    {
     "name": "stdout",
     "output_type": "stream",
     "text": [
      "Scenario: Tommy just got the toy he had been desperately asking for as a birthday present, and he jumps up and down, clapping his hands at the sight of it.\n",
      "\n",
      "Key words: toy, birthday present, jumps, clapping\n"
     ]
    }
   ],
   "source": [
    "load_dotenv()\n",
    "api_key = os.getenv(\"OPENAI_API_KEY\")\n",
    "client = OpenAI()\n",
    "\n",
    "completion = client.chat.completions.create(\n",
    "    model=\"gpt-3.5-turbo\",\n",
    "    messages=[\n",
    "        {\"role\": \"system\", \"content\": \"You are a childrens therapist for non neural typical children. \"\n",
    "                                      \"You describe scenarios to children to help them identify emotion.\"},\n",
    "        {\"role\": \"user\", \"content\": \"Give me a 2-3 sentence long scenario of a child experiencing joy. \"\n",
    "                                    \"Leave out any direct reference to emotion so that we can try to guess it.\"\n",
    "                                    \"Keep it simple so a 7 year old can guess it.\"\n",
    "                                    \"I then want to know what are the four top key words that would help identify the emotion.\"},\n",
    "    ]\n",
    ")\n",
    "\n",
    "print(completion.choices[0].message.content)\n"
   ]
  },
  {
   "cell_type": "code",
   "execution_count": 4,
   "id": "d003f86e-0a53-48d2-90d5-a18a88f7f207",
   "metadata": {},
   "outputs": [
    {
     "name": "stdout",
     "output_type": "stream",
     "text": [
      "<Response [200]>\n",
      "2891610\n"
     ]
    }
   ],
   "source": [
    "noun_api_key = os.getenv(\"NOUN_API_KEY\")\n",
    "noun_s = os.getenv(\"NOUN_S\")\n",
    "auth = OAuth1(noun_api_key, noun_s)\n",
    "endpoint = \"https://api.thenounproject.com/v2/icon?query=dog&limit_to_public_domain=1&limit=1\"\n",
    "\n",
    "response = requests.get(endpoint, auth=auth)\n",
    "print(response)\n",
    "response_text = response.content.decode('utf-8')\n",
    "response_text = json.loads(response_text)\n",
    "icon_id = response_text[\"icons\"][0][\"id\"]\n",
    "print(icon_id)"
   ]
  },
  {
   "cell_type": "code",
   "execution_count": 5,
   "id": "35dba8dd-9e74-4cca-b0f3-45a2defc8a2a",
   "metadata": {},
   "outputs": [],
   "source": [
    "endpoint2 = \"https://api.thenounproject.com/v2/icon/2891610/download?color=A3A3A3&filetype=png&size=25\"\n",
    "response2 = requests.get(endpoint2, auth=auth)"
   ]
  },
  {
   "cell_type": "code",
   "execution_count": 6,
   "id": "35633b3e-ef3d-4a86-9cf3-2825ae5cd920",
   "metadata": {},
   "outputs": [
    {
     "name": "stdout",
     "output_type": "stream",
     "text": [
      "Image saved successfully.\n"
     ]
    }
   ],
   "source": [
    "# Check if the request was successful\n",
    "if response2.status_code == 200:\n",
    "    # Parse the JSON response\n",
    "    data = response2.json()\n",
    "    \n",
    "    # Extract the base64-encoded file data\n",
    "    base64_encoded_file = data[\"base64_encoded_file\"]\n",
    "    \n",
    "    # Decode the base64-encoded file data\n",
    "    image_data = base64.b64decode(base64_encoded_file)\n",
    "    \n",
    "    # Open the image using Pillow\n",
    "    image = Image.open(BytesIO(image_data))\n",
    "    \n",
    "    # Display the image\n",
    "    image.show()\n",
    "    \n",
    "    # Save the image to a file\n",
    "    image.save(\"downloaded_image.png\")\n",
    "    \n",
    "    print(\"Image saved successfully.\")\n",
    "else:\n",
    "    print(\"Error:\", response2.status_code)"
   ]
  },
  {
   "cell_type": "code",
   "execution_count": 7,
   "id": "cdb8ed97-e9fb-4eaa-99f1-2a13d901eca6",
   "metadata": {},
   "outputs": [
    {
     "name": "stdout",
     "output_type": "stream",
     "text": [
      "b'{\\n  \"base64_encoded_file\": \"iVBORw0KGgoAAAANSUhEUgAAABkAAAAZCAYAAADE6YVjAAADcUlEQVR4nNWVT2icVRTFz7nvzzfGpBhQolJEJIgLsZsWQdGioEhAESqj8cuELEwWdS2lC0kW3brRhQyNBmYmWQwIcZOdlLZ0pyitWQmtUGNpajRok2nme+9dF53EmmYSA3bRC29133m/d+59f4D7KVSV9Xr9pVqt9uD2nPxfkEajcdR7f1ZEXr4nkIWFhQzAKREhAH9PICsrK6e89y+2222Q/KxWqz1/Z54AUKvV3ibpK5VKc5/rs1arjVlrv0gpUVXhnENRFL+S/CCl9N3o6OjyppMjqnpivw6q1aoFcMI5R1UFAIQQICKPG2MWSH4zPz/fJwAgIoskn5qenu77r4DZ2dljvb29x621x4qiOJtlGYwxUNVbzjmUSiWQ/Kndbq9bADDGfFsURV+pVBqdm5s7n1JSEUlFUSQR2RohBKuqzxljygDesdYihHA6hDCRUjqK200/UxTFWzFG9d5/WS6XIwFgcnJSBgcH5733b25sbESSCuCuoarinMtIIoQAVYX3Hqp6PYTw8cjIyOmdXAsATE1NQTtFFRFD0pJ0JD3JjGSJ5AMikoUQUBQFNnvQbrchIgOq+l630loAaDQaz5AculO8n0gpQVVdt/zm6XrMWmu3A0QEzjkYY/YEkfyrW852FluNMSaSsgkiiRjjtZTSIoCnvfdPqCpijEgp3bUZkot7ObmsqssktxLOOZA8WalUXsuy7HAI4XiM8QyAP51zEPnnsYgxAsCFXSF5nv+hquestf8SkrwCAOVy+Uae55/nef6qiByKMY6klK6LCEQEIYR1kpf2cgKSVzq2YYxBjHGp1Wr9uF0wPDz8c57nswAWSUJVA4Cl/v7+pV0hMzMzJQBvtNvtlqquOOcA4Kvx8fHfdxI1m00DYCCEcE1VLwP4bWhoaGNXiPf+sPf+UErpIslLnYs2103UarUeAnCQ5PeqehVAq9vcLUhK6clOo6+q6o1OyUI3EckDAA4AOE9yFZ3XfFcIyVVVhd6Oc6VSCar64S6QgSzLNj8oA+CRTsm7Q1T1h1ardQvAC9baC2tra8sppbF6vX5wJ1GMcb0oijUAHwF4uKen51nn3NfVanXHWy8AUKlUflHVT733PSklTSm9Yow5GUK4uZNobGzsYgjhiIi8box5N4Twvqp+MjEx0bXEW9FsNh/tnJz7L/4GtLKqvq51CWcAAAAASUVORK5CYII=\",\\n  \"content_type\": \"image/png\",\\n  \"usage_limits\": {\\n    \"monthly\": {\\n      \"limit\": 5000,\\n      \"usage\": 58\\n    }\\n  }\\n}'\n"
     ]
    }
   ],
   "source": [
    "print(response2.content)"
   ]
  },
  {
   "cell_type": "code",
   "execution_count": null,
   "id": "d3be550b-40aa-4180-ac3a-05442135feba",
   "metadata": {},
   "outputs": [],
   "source": []
  }
 ],
 "metadata": {
  "kernelspec": {
   "display_name": "Python 3 (ipykernel)",
   "language": "python",
   "name": "python3"
  },
  "language_info": {
   "codemirror_mode": {
    "name": "ipython",
    "version": 3
   },
   "file_extension": ".py",
   "mimetype": "text/x-python",
   "name": "python",
   "nbconvert_exporter": "python",
   "pygments_lexer": "ipython3",
   "version": "3.9.13"
  }
 },
 "nbformat": 4,
 "nbformat_minor": 5
}
