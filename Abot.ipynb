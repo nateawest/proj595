{
 "cells": [
  {
   "cell_type": "code",
   "execution_count": 35,
   "id": "95347dda-3d1e-4554-beda-8dcaf9c02afd",
   "metadata": {},
   "outputs": [],
   "source": [
    "from dotenv import load_dotenv\n",
    "from openai import OpenAI\n",
    "import os\n",
    "import requests\n",
    "from requests_oauthlib import OAuth1\n",
    "import json\n",
    "import base64\n",
    "from PIL import Image\n",
    "from io import BytesIO"
   ]
  },
  {
   "cell_type": "code",
   "execution_count": 18,
   "id": "a6cc2565-dd18-475e-9c54-aea12dd829ce",
   "metadata": {},
   "outputs": [
    {
     "name": "stdout",
     "output_type": "stream",
     "text": [
      "Scenario: Billy and his friends are playing at the park, running around and laughing, while the sun shines brightly in the sky. They take turns on the swings and slide, feeling like they're flying through the air.\n",
      "\n",
      "Key words: playing, laughing, sun shining, flying\n"
     ]
    }
   ],
   "source": [
    "load_dotenv()\n",
    "api_key = os.getenv(\"OPENAI_API_KEY\")\n",
    "client = OpenAI()\n",
    "\n",
    "completion = client.chat.completions.create(\n",
    "    model=\"gpt-3.5-turbo\",\n",
    "    messages=[\n",
    "        {\"role\": \"system\", \"content\": \"You are a childrens therapist for non neural typical children. \"\n",
    "                                      \"You describe scenarios to children to help them identify emotion.\"},\n",
    "        {\"role\": \"user\", \"content\": \"Give me a 2-3 sentence long scenario of a child experiencing joy. \"\n",
    "                                    \"Leave out any direct reference to emotion so that we can try to guess it.\"\n",
    "                                    \"Keep it simple so a 7 year old can guess it.\"\n",
    "                                    \"I then want to know what are the four top key words that would help identify the emotion.\"},\n",
    "    ]\n",
    ")\n",
    "\n",
    "print(completion.choices[0].message.content)\n"
   ]
  },
  {
   "cell_type": "code",
   "execution_count": 50,
   "id": "d003f86e-0a53-48d2-90d5-a18a88f7f207",
   "metadata": {},
   "outputs": [
    {
     "name": "stdout",
     "output_type": "stream",
     "text": [
      "<Response [200]>\n",
      "2891610\n"
     ]
    }
   ],
   "source": [
    "auth = OAuth1(\"1285c1f293c24d26931dd8d577f86ab6\", \"2239bd2341e246148a3c85a325acca80\")\n",
    "endpoint = \"https://api.thenounproject.com/v2/icon?query=dog&limit_to_public_domain=1&limit=1\"\n",
    "\n",
    "response = requests.get(endpoint, auth=auth)\n",
    "print(response)\n",
    "response_text = response.content.decode('utf-8')\n",
    "response_text = json.loads(response_text)\n",
    "icon_id = response_text[\"icons\"][0][\"id\"]\n",
    "print(icon_id)"
   ]
  },
  {
   "cell_type": "code",
   "execution_count": 51,
   "id": "35dba8dd-9e74-4cca-b0f3-45a2defc8a2a",
   "metadata": {},
   "outputs": [],
   "source": [
    "endpoint2 = \"https://api.thenounproject.com/v2/icon/2891610/download?color=A3A3A3&filetype=png&size=25\"\n",
    "response2 = requests.get(endpoint2, auth=auth)"
   ]
  },
  {
   "cell_type": "code",
   "execution_count": 52,
   "id": "35633b3e-ef3d-4a86-9cf3-2825ae5cd920",
   "metadata": {},
   "outputs": [
    {
     "name": "stdout",
     "output_type": "stream",
     "text": [
      "Image saved successfully.\n"
     ]
    }
   ],
   "source": [
    "# Check if the request was successful\n",
    "if response2.status_code == 200:\n",
    "    # Parse the JSON response\n",
    "    data = response2.json()\n",
    "    \n",
    "    # Extract the base64-encoded file data\n",
    "    base64_encoded_file = data[\"base64_encoded_file\"]\n",
    "    \n",
    "    # Decode the base64-encoded file data\n",
    "    image_data = base64.b64decode(base64_encoded_file)\n",
    "    \n",
    "    # Open the image using Pillow\n",
    "    image = Image.open(BytesIO(image_data))\n",
    "    \n",
    "    # Display the image\n",
    "    image.show()\n",
    "    \n",
    "    # Save the image to a file\n",
    "    image.save(\"downloaded_image.png\")\n",
    "    \n",
    "    print(\"Image saved successfully.\")\n",
    "else:\n",
    "    print(\"Error:\", response2.status_code)"
   ]
  },
  {
   "cell_type": "code",
   "execution_count": 49,
   "id": "cdb8ed97-e9fb-4eaa-99f1-2a13d901eca6",
   "metadata": {},
   "outputs": [
    {
     "name": "stdout",
     "output_type": "stream",
     "text": [
      "b'{\"message\":\"You are not authorized to edit this icon.\"}\\n'\n"
     ]
    }
   ],
   "source": [
    "print(response2.content)"
   ]
  },
  {
   "cell_type": "code",
   "execution_count": null,
   "id": "d3be550b-40aa-4180-ac3a-05442135feba",
   "metadata": {},
   "outputs": [],
   "source": []
  }
 ],
 "metadata": {
  "kernelspec": {
   "display_name": "Python 3 (ipykernel)",
   "language": "python",
   "name": "python3"
  },
  "language_info": {
   "codemirror_mode": {
    "name": "ipython",
    "version": 3
   },
   "file_extension": ".py",
   "mimetype": "text/x-python",
   "name": "python",
   "nbconvert_exporter": "python",
   "pygments_lexer": "ipython3",
   "version": "3.9.13"
  }
 },
 "nbformat": 4,
 "nbformat_minor": 5
}
